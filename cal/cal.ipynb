{
 "cells": [
  {
   "cell_type": "markdown",
   "metadata": {},
   "source": [
    "## Camera Callibration"
   ]
  },
  {
   "cell_type": "code",
   "execution_count": 7,
   "metadata": {},
   "outputs": [
    {
     "name": "stdout",
     "output_type": "stream",
     "text": [
      "Camera Matrix:\n",
      " [[2.13672283e+03 0.00000000e+00 6.19922564e+02]\n",
      " [0.00000000e+00 2.10347810e+03 4.53762111e+02]\n",
      " [0.00000000e+00 0.00000000e+00 1.00000000e+00]]\n",
      "Distortion Coefficients:\n",
      " [[ 2.18872502e-01 -1.67451893e+01 -1.48993478e-03  1.13496182e-04\n",
      "   2.34006294e+02]]\n",
      "Camera calibration successful. Data saved.\n"
     ]
    }
   ],
   "source": [
    "import cv2\n",
    "import numpy as np\n",
    "import glob\n",
    "import matplotlib as plt\n",
    "\n",
    "# Define chessboard size (number of inside corners per row and column)\n",
    "chessboard_size = (7, 9)\n",
    "\n",
    "# Prepare object points (0,0,0), (1,0,0), ..., (6,8,0)\n",
    "objp = np.zeros((chessboard_size[0] * chessboard_size[1], 3), np.float32)\n",
    "objp[:, :2] = np.mgrid[0:chessboard_size[0], 0:chessboard_size[1]].T.reshape(-1, 2)\n",
    "\n",
    "# Arrays to store object points and image points from all images\n",
    "objpoints = []  # 3D points in real-world space\n",
    "imgpoints = []  # 2D points in image plane\n",
    "\n",
    "# Load all calibration images\n",
    "images = glob.glob(\"1.jpg\")  # Change this to load multiple images\n",
    "\n",
    "if not images:\n",
    "    print(\"Error: No calibration images found!\")\n",
    "    exit()\n",
    "\n",
    "gray = None  # Initialize gray to avoid NameError\n",
    "\n",
    "for fname in images:\n",
    "    img = cv2.imread(fname)\n",
    "    if img is None:\n",
    "        print(f\"Error: Could not load image {fname}\")\n",
    "        continue\n",
    "\n",
    "    gray = cv2.cvtColor(img, cv2.COLOR_BGR2GRAY)\n",
    "\n",
    "    # Find the chessboard corners\n",
    "    ret, corners = cv2.findChessboardCorners(gray, chessboard_size, None)\n",
    "\n",
    "    if ret:\n",
    "        objpoints.append(objp)\n",
    "        imgpoints.append(corners)\n",
    "\n",
    "        # Draw and display the corners\n",
    "        cv2.drawChessboardCorners(img, chessboard_size, corners, ret)\n",
    "        cv2.imshow(\"Corners\", img)\n",
    "        cv2.waitKey(500)\n",
    "\n",
    "cv2.destroyAllWindows()\n",
    "\n",
    "# Ensure at least one valid calibration image exists\n",
    "if not objpoints or gray is None:\n",
    "    print(\"Error: No valid images with detected chessboard corners.\")\n",
    "    exit()\n",
    "\n",
    "# Perform camera calibration\n",
    "ret, mtx, dist, rvecs, tvecs = cv2.calibrateCamera(objpoints, imgpoints, gray.shape[::-1], None, None)\n",
    "\n",
    "print(\"Camera Matrix:\\n\", mtx)\n",
    "print(\"Distortion Coefficients:\\n\", dist)\n",
    "\n",
    "# Save calibration data\n",
    "np.save(\"camera_matrix.npy\", mtx)\n",
    "np.save(\"dist_coeffs.npy\", dist)\n",
    "\n",
    "print(\"Camera calibration successful. Data saved.\")\n",
    "\n",
    "\n"
   ]
  }
 ],
 "metadata": {
  "kernelspec": {
   "display_name": "base",
   "language": "python",
   "name": "python3"
  },
  "language_info": {
   "codemirror_mode": {
    "name": "ipython",
    "version": 3
   },
   "file_extension": ".py",
   "mimetype": "text/x-python",
   "name": "python",
   "nbconvert_exporter": "python",
   "pygments_lexer": "ipython3",
   "version": "3.12.2"
  }
 },
 "nbformat": 4,
 "nbformat_minor": 2
}
